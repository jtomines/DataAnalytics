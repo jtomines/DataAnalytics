{
 "cells": [
  {
   "cell_type": "markdown",
   "metadata": {},
   "source": [
    "# Mission to Mars\n",
    "\n",
    "#### Unit 10 Web Scraping Assignment\n",
    "Author: Jose Tomines <br>\n",
    "Date: 2019-03-05\n",
    "\n",
    "\n",
    "In this assignment, you will build a web application that scrapes various websites for data related to the Mission to Mars and displays the information in a single HTML page. The following outlines what you need to do.\n",
    "\n",
    "## Step 1 - Scraping\n",
    "\n",
    "Complete your initial scraping using Jupyter Notebook, BeautifulSoup, Pandas, and Requests/Splinter.\n",
    "\n",
    "Create a Jupyter Notebook file called mission_to_mars.ipynb and use this to complete all of your scraping and analysis tasks. The following outlines what you need to scrape.\n",
    "\n",
    "\n",
    "### NASA Mars News\n",
    "Scrape the NASA Mars News Site and collect the latest News Title and Paragraph Text. Assign the text to variables that you can reference later.\n",
    "\n",
    "#### Example:\n",
    "news_title = \"NASA's Next Mars Mission to Investigate Interior of Red Planet\"\n",
    "\n",
    "news_p = \"Preparation of NASA's next spacecraft to Mars, InSight, has ramped up this summer, on course for launch next May from Vandenberg Air Force Base in central California -- the first interplanetary launch in history from America's West Coast.\"\n",
    "\n",
    "### JPL Mars Space Images - Featured Image\n",
    "\n",
    "- Visit the url for JPL Featured Space Image here.\n",
    "- Use splinter to navigate the site and find the image url for the current Featured Mars Image and assign the url string to a variable called featured_image_url.\n",
    "- Make sure to find the image url to the full size .jpg image.\n",
    "- Make sure to save a complete url string for this image.\n",
    "\n",
    "#### Example:\n",
    "featured_image_url = 'https://www.jpl.nasa.gov/spaceimages/images/mediumsize/PIA17357_ip.jpg'\n",
    "\n",
    "\n",
    "### Mars Weather\n",
    "- Visit the Mars Weather twitter account here and scrape the latest Mars weather tweet from the page. Save the tweet text for the weather report as a variable called mars_weather.\n",
    "\n",
    "\n",
    "#### Example:\n",
    "mars_weather = 'Sol 1801 (Aug 30, 2017), Sunny, high -21C/-5F, low -80C/-112F, pressure at 8.82 hPa, daylight 06:09-17:55'\n",
    "\n",
    "\n",
    "### Mars Facts\n",
    "- Visit the Mars Facts webpage here and use Pandas to scrape the table containing facts about the planet including Diameter, Mass, etc.\n",
    "- Use Pandas to convert the data to a HTML table string.\n",
    "\n",
    "\n",
    "### Mars Hemispheres\n",
    "- Visit the USGS Astrogeology site here to obtain high resolution images for each of Mar's hemispheres.\n",
    "- You will need to click each of the links to the hemispheres in order to find the image url to the full resolution image.\n",
    "- Save both the image url string for the full resolution hemisphere image, and the Hemisphere title containing the hemisphere name. Use a Python dictionary to store the data using the keys img_url and title.\n",
    "- Append the dictionary with the image url string and the hemisphere title to a list. This list will contain one dictionary for each hemisphere.\n",
    "\n",
    "\n",
    "#### Example:\n",
    "hemisphere_image_urls = [\n",
    "    {\"title\": \"Valles Marineris Hemisphere\", \"img_url\": \"...\"},\n",
    "    {\"title\": \"Cerberus Hemisphere\", \"img_url\": \"...\"},\n",
    "    {\"title\": \"Schiaparelli Hemisphere\", \"img_url\": \"...\"},\n",
    "    {\"title\": \"Syrtis Major Hemisphere\", \"img_url\": \"...\"},\n",
    "]"
   ]
  },
  {
   "cell_type": "code",
   "execution_count": 1,
   "metadata": {},
   "outputs": [],
   "source": [
    "# depndencies\n",
    "from splinter import Browser\n",
    "from bs4 import BeautifulSoup as bs\n",
    "import pandas as pd\n",
    "import requests\n",
    "from pprint import pprint"
   ]
  },
  {
   "cell_type": "markdown",
   "metadata": {},
   "source": [
    "## NASA Mars News"
   ]
  },
  {
   "cell_type": "code",
   "execution_count": 2,
   "metadata": {},
   "outputs": [],
   "source": [
    "# path to chromedriver\n",
    "executable_path = {'executable_path':'chromedriver.exe'}"
   ]
  },
  {
   "cell_type": "code",
   "execution_count": 3,
   "metadata": {},
   "outputs": [],
   "source": [
    "# define function to remove ending substring from string\n",
    "def remove_substring(string, substring):\n",
    "    if substring in string:\n",
    "        return string[:-len(substring)]\n",
    "    return string"
   ]
  },
  {
   "cell_type": "code",
   "execution_count": 4,
   "metadata": {},
   "outputs": [
    {
     "name": "stdout",
     "output_type": "stream",
     "text": [
      "{'Date': 'April  5, 2019',\n",
      " 'Summary': 'Nominees include four JPL projects: the solar system and climate '\n",
      "            'websites, InSight social media, and a 360-degree Earth video. '\n",
      "            'Public voting closes April 18, 2019.',\n",
      " 'Title': 'NASA Garners 7 Webby Award Nominations'}\n"
     ]
    }
   ],
   "source": [
    "# url with latest NASA stories\n",
    "browser = Browser('chrome', **executable_path, headless=False)\n",
    "url1 = 'https://mars.nasa.gov/news/'\n",
    "browser.visit(url1)\n",
    "\n",
    "# set up parser\n",
    "html = browser.html\n",
    "soup = bs(html, 'lxml')\n",
    "\n",
    "# get latest news articles\n",
    "dateLatest = soup.find('div', class_='list_date').text\n",
    "titleLatest = soup.find('div', class_='content_title').text\n",
    "summaryLatest = soup.find('div', class_='article_teaser_body').text\n",
    "\n",
    "# close browser\n",
    "browser.quit()\n",
    "\n",
    "# create news dictionary\n",
    "newsDict = {\"Date\":dateLatest,\n",
    "            \"Title\": titleLatest,\n",
    "            \"Summary\": summaryLatest}\n",
    "\n",
    "# view news information\n",
    "pprint(newsDict)"
   ]
  },
  {
   "cell_type": "markdown",
   "metadata": {},
   "source": [
    "## JPL Mars Space Images"
   ]
  },
  {
   "cell_type": "code",
   "execution_count": 5,
   "metadata": {},
   "outputs": [
    {
     "name": "stdout",
     "output_type": "stream",
     "text": [
      "{'Source': 'https://www.jpl.nasa.gov/spaceimages/images/largesize/PIA16092_hires.jpg',\n",
      " 'Title': None}\n"
     ]
    }
   ],
   "source": [
    "# visit 2nd URL\n",
    "browser = Browser('chrome', **executable_path, headless=False)\n",
    "url2 = 'https://www.jpl.nasa.gov/spaceimages/?search=&category=Mars'\n",
    "browser.visit(url2)\n",
    "\n",
    "# click FULL IMAGE BUTTON\n",
    "fullImageButton = browser.find_by_id('full_image')\n",
    "fullImageButton.click()\n",
    "\n",
    "# click the \"more info\" button\n",
    "browser.is_element_present_by_text('more info', wait_time=1)\n",
    "moreInfoButton = browser.find_link_by_partial_text('more info')\n",
    "moreInfoButton.click()\n",
    "\n",
    "# set up parser\n",
    "html = browser.html\n",
    "soup = bs(html, 'lxml')\n",
    "\n",
    "# find featured image title\n",
    "imgTitle = soup.find('div', class_='fancybox-title')\n",
    "\n",
    "# find featured image url\n",
    "imgRelativeUrl = soup.select_one('figure.lede a img').get(\"src\") \n",
    "imgUrl = f'https://www.jpl.nasa.gov{imgRelativeUrl}'\n",
    "\n",
    "#close browser\n",
    "browser.quit()\n",
    "\n",
    "# create image dictionary\n",
    "imgDict = {\"Title\": imgTitle,\n",
    "         \"Source\": imgUrl}\n",
    "\n",
    "# view image information\n",
    "pprint(imgDict)"
   ]
  },
  {
   "cell_type": "markdown",
   "metadata": {},
   "source": [
    "## Mars Weather"
   ]
  },
  {
   "cell_type": "code",
   "execution_count": 6,
   "metadata": {},
   "outputs": [
    {
     "name": "stdout",
     "output_type": "stream",
     "text": [
      "{'Mars Weather': 'InSight sol 130 (2019-04-08) low -98.0ºC (-144.4ºF) high '\n",
      "                 '-15.5ºC (4.1ºF)\\n'\n",
      "                 'winds from the SW at 4.1 m/s (9.3 mph) gusting to 11.7 m/s '\n",
      "                 '(26.2 mph)\\n'\n",
      "                 'pressure at 7.30 hPapic.twitter.com/awJfx8w2YE'}\n"
     ]
    }
   ],
   "source": [
    "# visitng Mars Weather Twitter page\n",
    "browser = Browser('chrome', **executable_path, headless=False)\n",
    "url3 = 'https://twitter.com/marswxreport?lang=en'\n",
    "browser.visit(url3)\n",
    "\n",
    "# set up parser\n",
    "html = browser.html\n",
    "soup = bs(html, 'lxml')\n",
    "\n",
    "# finding first tweet with data-name 'Mars Weather'\n",
    "marsWeatherTweet = soup.find('div', attrs={\"class\": \"tweet\", \"data-name\": \"Mars Weather\"})\n",
    "\n",
    "# search for p tag within tweet text\n",
    "marsWeather = marsWeatherTweet.find('p', 'tweet-text').get_text()\n",
    "\n",
    "# create Mars weather dictionary\n",
    "marsWeatherDict = {\"Mars Weather\": marsWeather}\n",
    "\n",
    "# close browser\n",
    "browser.quit()\n",
    "\n",
    "# view Mars weather information\n",
    "pprint(marsWeatherDict)"
   ]
  },
  {
   "cell_type": "markdown",
   "metadata": {},
   "source": [
    "## Mars Facts"
   ]
  },
  {
   "cell_type": "code",
   "execution_count": 7,
   "metadata": {},
   "outputs": [
    {
     "name": "stdout",
     "output_type": "stream",
     "text": [
      "{'Equatorial Diameter:': '6,792 km',\n",
      " 'First Record:': '2nd millennium BC',\n",
      " 'Mass:': '6.42 x 10^23 kg (10.7% Earth)',\n",
      " 'Moons:': '2 (Phobos & Deimos)',\n",
      " 'Orbit Distance:': '227,943,824 km (1.52 AU)',\n",
      " 'Orbit Period:': '687 days (1.9 years)',\n",
      " 'Polar Diameter:': '6,752 km',\n",
      " 'Recorded By:': 'Egyptian astronomers',\n",
      " 'Surface Temperature:': '-153 to 20 °C'}\n"
     ]
    }
   ],
   "source": [
    "# read Mars facts from url\n",
    "url4 = 'https://space-facts.com/mars/'\n",
    "facts = pd.read_html(url4)\n",
    "marsFacts = facts[0]\n",
    "marsFacts.columns = ['Mars Planet Profile', 'Fact Value']\n",
    "\n",
    "# create Mars facts dictionary\n",
    "marsFactsDict = marsFacts.set_index('Mars Planet Profile').to_dict()['Fact Value']\n",
    "\n",
    "# view Mars facts\n",
    "pprint(marsFactsDict)"
   ]
  },
  {
   "cell_type": "markdown",
   "metadata": {},
   "source": [
    "## Mars Hemispheres"
   ]
  },
  {
   "cell_type": "code",
   "execution_count": 8,
   "metadata": {},
   "outputs": [
    {
     "data": {
      "text/plain": [
       "[{'img_url': 'http://astropedia.astrogeology.usgs.gov/download/Mars/Viking/cerberus_enhanced.tif/full.jpg',\n",
       "  'title': 'Cerberus Hemisphere Enhanced'},\n",
       " {'img_url': 'http://astropedia.astrogeology.usgs.gov/download/Mars/Viking/schiaparelli_enhanced.tif/full.jpg',\n",
       "  'title': 'Schiaparelli Hemisphere Enhanced'},\n",
       " {'img_url': 'http://astropedia.astrogeology.usgs.gov/download/Mars/Viking/syrtis_major_enhanced.tif/full.jpg',\n",
       "  'title': 'Syrtis Major Hemisphere Enhanced'},\n",
       " {'img_url': 'http://astropedia.astrogeology.usgs.gov/download/Mars/Viking/valles_marineris_enhanced.tif/full.jpg',\n",
       "  'title': 'Valles Marineris Hemisphere Enhanced'}]"
      ]
     },
     "execution_count": 8,
     "metadata": {},
     "output_type": "execute_result"
    }
   ],
   "source": [
    "# visit USGS Astrogeology Science Center\n",
    "browser = Browser('chrome', **executable_path, headless=False)\n",
    "url5='https://astrogeology.usgs.gov/search/results?q=hemisphere+enhanced&k1=target&v1=Mars'\n",
    "browser.visit(url5)\n",
    "\n",
    "# create hemisphere list\n",
    "hemisphereUrls = []\n",
    "\n",
    "# get a list of all hemispheres\n",
    "links = browser.find_by_css(\"a.product-item h3\")\n",
    "\n",
    "# Next, loop through those links, click the link, find the sample anchor, return the href\n",
    "for i in range(len(links)):\n",
    "    hemisphere = {}\n",
    "    \n",
    "    # list all elements\n",
    "    browser.find_by_css(\"a.product-item h3\")[i].click()\n",
    "    \n",
    "    # find the Sample image anchor tag to get the href\n",
    "    sampleImgATag = browser.find_link_by_text('Sample').first\n",
    "    hemisphere['img_url'] = sampleImgATag['href']\n",
    "    \n",
    "    # get Hemisphere title\n",
    "    hemisphere['title'] = browser.find_by_css(\"h2.title\").text\n",
    "    \n",
    "    # Append hemisphere to list\n",
    "    hemisphereUrls.append(hemisphere)\n",
    "    \n",
    "    # Finally, we navigate backwards\n",
    "    browser.back()\n",
    "\n",
    "# close browser\n",
    "browser.quit()\n",
    "\n",
    "hemisphereUrls"
   ]
  },
  {
   "cell_type": "code",
   "execution_count": null,
   "metadata": {},
   "outputs": [],
   "source": []
  }
 ],
 "metadata": {
  "kernelspec": {
   "display_name": "Python 3",
   "language": "python",
   "name": "python3"
  },
  "language_info": {
   "codemirror_mode": {
    "name": "ipython",
    "version": 3
   },
   "file_extension": ".py",
   "mimetype": "text/x-python",
   "name": "python",
   "nbconvert_exporter": "python",
   "pygments_lexer": "ipython3",
   "version": "3.6.8"
  }
 },
 "nbformat": 4,
 "nbformat_minor": 2
}
